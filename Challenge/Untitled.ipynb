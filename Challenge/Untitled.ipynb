{
 "cells": [
  {
   "cell_type": "code",
   "execution_count": 9,
   "id": "7905dd8f",
   "metadata": {},
   "outputs": [
    {
     "name": "stderr",
     "output_type": "stream",
     "text": [
      "\n",
      "\n",
      "====== WebDriver manager ======\n",
      "Current google-chrome version is 98.0.4758\n",
      "Get LATEST chromedriver version for 98.0.4758 google-chrome\n",
      "Driver [C:\\Users\\adeve\\.wdm\\drivers\\chromedriver\\win32\\98.0.4758.102\\chromedriver.exe] found in cache\n"
     ]
    },
    {
     "data": {
      "text/plain": [
       "[{'image_url': 'https://marshemispheres.com/cerberus.htmlimages/full.jpg',\n",
       "  'title': 'Cerberus Hemisphere Enhanced'},\n",
       " {'image_url': 'https://marshemispheres.com/schiaparelli.htmlimages/schiaparelli_enhanced-full.jpg',\n",
       "  'title': 'Schiaparelli Hemisphere Enhanced'},\n",
       " {'image_url': 'https://marshemispheres.com/syrtis.htmlimages/syrtis_major_enhanced-full.jpg',\n",
       "  'title': 'Syrtis Major Hemisphere Enhanced'},\n",
       " {'image_url': 'https://marshemispheres.com/valles.htmlimages/valles_marineris_enhanced-full.jpg',\n",
       "  'title': 'Valles Marineris Hemisphere Enhanced'}]"
      ]
     },
     "execution_count": 9,
     "metadata": {},
     "output_type": "execute_result"
    }
   ],
   "source": [
    "import numpy as np \n",
    "from splinter import Browser\n",
    "from bs4 import BeautifulSoup as soup\n",
    "import requests\n",
    "from webdriver_manager.chrome import ChromeDriverManager\n",
    "\n",
    "executable_path = {'executable_path': ChromeDriverManager().install()}\n",
    "browser = Browser('chrome', **executable_path, headless=False)\n",
    "\n",
    "url = 'https://marshemispheres.com/'\n",
    "browser.visit(url)\n",
    "\n",
    "html = browser.html\n",
    "img_soup = soup(html, 'html.parser')\n",
    "\n",
    "hemisphere = []\n",
    "\n",
    "for x in np.arange(0,4,1): \n",
    "    apple = img_soup.find_all('div', class_='item')[x].find('a', class_=\"itemLink product-item\").get(\"href\")\n",
    "    new_url = url + apple \n",
    "\n",
    "    browser.visit(new_url)\n",
    "    html = browser.html \n",
    "    img_soup_new = soup(html, 'html.parser')\n",
    "\n",
    "    banana = img_soup_new.find('div', class_=\"downloads\").find(\"li\").find(\"a\").get('href')\n",
    "    image_url = new_url + banana\n",
    "    image_url\n",
    "        \n",
    "    info = {\n",
    "        \"image_url\": image_url,\n",
    "        \"title\": img_soup_new.find('h2', class_=\"title\").text\n",
    "    }\n",
    "    hemisphere.append(info)\n",
    "    \n",
    "hemisphere"
   ]
  },
  {
   "cell_type": "code",
   "execution_count": null,
   "id": "ab5cdefc",
   "metadata": {},
   "outputs": [],
   "source": []
  }
 ],
 "metadata": {
  "kernelspec": {
   "display_name": "PythonData",
   "language": "python",
   "name": "pythondata"
  },
  "language_info": {
   "codemirror_mode": {
    "name": "ipython",
    "version": 3
   },
   "file_extension": ".py",
   "mimetype": "text/x-python",
   "name": "python",
   "nbconvert_exporter": "python",
   "pygments_lexer": "ipython3",
   "version": "3.9.7"
  }
 },
 "nbformat": 4,
 "nbformat_minor": 5
}
